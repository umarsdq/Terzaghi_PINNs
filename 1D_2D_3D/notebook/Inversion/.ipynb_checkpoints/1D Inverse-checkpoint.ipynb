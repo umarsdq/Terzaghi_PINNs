{
 "cells": [
  {
   "cell_type": "markdown",
   "id": "696f1b26",
   "metadata": {},
   "source": [
    "## 1D Inverse Terzaghi Consolidation Problem (PINN)"
   ]
  },
  {
   "cell_type": "markdown",
   "id": "4b30af73",
   "metadata": {},
   "source": [
    "Here, we attempt to invert *one* parameter from the 1D Terzaghi PDE by using the physics to predict the unknown parameters from exact solution data. The real parameter value is 0.75."
   ]
  },
  {
   "cell_type": "code",
   "execution_count": 1,
   "id": "7ed0d37e",
   "metadata": {},
   "outputs": [
    {
     "name": "stdout",
     "output_type": "stream",
     "text": [
      "---------------------- SCIANN 0.7.0.1 ---------------------- \n",
      "For details, check out our review paper and the documentation at: \n",
      " +  \"https://www.sciencedirect.com/science/article/pii/S0045782520307374\", \n",
      " +  \"https://arxiv.org/abs/2005.08803\", \n",
      " +  \"https://www.sciann.com\". \n",
      "\n",
      " Need support or would like to contribute, please join sciann`s slack group: \n",
      " +  \"https://join.slack.com/t/sciann/shared_invite/zt-ne1f5jlx-k_dY8RGo3ZreDXwz0f~CeA\" \n",
      " \n",
      "TensorFlow Version: 2.10.0 \n",
      "Python Version: 3.9.19 (main, May  6 2024, 20:12:36) [MSC v.1916 64 bit (AMD64)] \n",
      "\n"
     ]
    }
   ],
   "source": [
    "import numpy as np\n",
    "import sciann as sn\n",
    "import matplotlib.pyplot as plt\n",
    "from sciann.utils.math import sign, abs, sigmoid, tanh, diff"
   ]
  },
  {
   "cell_type": "code",
   "execution_count": 2,
   "id": "3aa6e745",
   "metadata": {},
   "outputs": [],
   "source": [
    "# ----------------------- Constant Parameters -------------------------\n",
    "cv = 0.75\n",
    "Ly = 2\n",
    "p0 = 1.0\n",
    "p_star = 1.0\n",
    "\n",
    "y_min, y_max = 0., Ly\n",
    "t_min, t_max = 0., 1.0\n",
    "\n",
    "zs = np.linspace(y_min, y_max, 100)\n",
    "ts = np.linspace(t_min, t_max, 100)"
   ]
  },
  {
   "cell_type": "markdown",
   "id": "947c5e9b",
   "metadata": {},
   "source": [
    "### Fourier Solution"
   ]
  },
  {
   "cell_type": "code",
   "execution_count": 3,
   "id": "159d05ff",
   "metadata": {},
   "outputs": [],
   "source": [
    "def Uz(N,Z,T):\n",
    "    uz = 0\n",
    "    #function is zero for even values of n. Therefore only compute for odd values\n",
    "    for n in range(1,N+1,2):\n",
    "        uz += 4.0/np.pi/n*np.sin(np.pi*n/2.0*Z)*np.exp(-1.0*n*n*np.pi*np.pi/4.0*T)\n",
    "    return uz\n",
    "\n",
    "cv = 0.75 # consolidation m^2/year\n",
    "H = Ly/2 # drainage path length\n",
    "ts = np.linspace(0, 1, 100)\n",
    "T = (cv*ts)/H**2\n",
    "Z = zs\n",
    "N = 50\n",
    "\n",
    "time = ts\n",
    "depth = zs\n",
    "\n",
    "# Create the meshgrid for contour plot using 'ij' indexing\n",
    "T_contour = np.array([[cv * t / (H**2) for t in time] for z in depth])\n",
    "T_mesh, Z_mesh = np.meshgrid(time, depth, indexing='ij')\n",
    "U_mesh = np.zeros_like(T_mesh)\n",
    "\n",
    "# Calculate the analytical pressures\n",
    "for i in range(len(time)):\n",
    "    for j in range(len(depth)):\n",
    "        U_mesh[i, j] = Uz(N, Z_mesh[i, j], T_contour[j, i])"
   ]
  },
  {
   "cell_type": "markdown",
   "id": "69606fd5",
   "metadata": {},
   "source": [
    "### Randomly selecting training data"
   ]
  },
  {
   "cell_type": "code",
   "execution_count": 4,
   "id": "0e14a676",
   "metadata": {
    "scrolled": true
   },
   "outputs": [],
   "source": [
    "def PrepareData(num_data=5000, random=True):\n",
    "    # Flattening the mesh grid\n",
    "    Z, T = np.meshgrid(zs, ts)\n",
    "    Z_flat = Z.flatten()[:, None]\n",
    "    T_flat = T.flatten()[:, None]\n",
    "    \n",
    "    # Calculating U_mesh\n",
    "    U_mesh_flat = U_mesh.flatten()[:, None]\n",
    "    \n",
    "    # Pick random data\n",
    "    if random:\n",
    "        idx = np.random.choice(Z_flat.shape[0], num_data, replace=False)\n",
    "    else:\n",
    "        idx = np.arange(0, Z_flat.shape[0])\n",
    "    \n",
    "    z_train = Z_flat[idx]\n",
    "    t_train = T_flat[idx]\n",
    "    u_train = U_mesh_flat[idx]\n",
    "    \n",
    "    return (z_train, t_train, u_train)\n",
    "\n",
    "z_train, t_train, u_train = PrepareData(5000, random=True)"
   ]
  },
  {
   "cell_type": "markdown",
   "id": "c3727ed1",
   "metadata": {},
   "source": [
    "### Defining the physics"
   ]
  },
  {
   "cell_type": "code",
   "execution_count": 5,
   "id": "426a89c2",
   "metadata": {},
   "outputs": [],
   "source": [
    "# Reset session and set random seed\n",
    "sn.reset_session()\n",
    "sn.set_random_seed(1234)\n",
    "\n",
    "# Define independent variables\n",
    "z = sn.Variable(\"z\", dtype='float64')\n",
    "t = sn.Variable(\"t\", dtype='float64')\n",
    "\n",
    "# Define solution variable\n",
    "U = sn.Functional(\"U\", [z, t], 8*[20], 'tanh')\n",
    "\n",
    "# Define parameter to be inverted\n",
    "cv_inv = sn.Parameter(1.2, inputs=[z, t], name=\"cv_inv\")\n",
    "\n",
    "# Define PDE (physics constraint)\n",
    "U_t = diff(U, t)\n",
    "U_z = diff(U, z)\n",
    "U_zz = diff(U_z, z)\n",
    "\n",
    "PDE = cv_inv * U_zz - U_t\n",
    "\n",
    "# Define targets (losses) using sn.Data and sn.PDE interfaces\n",
    "data_target = sn.Data(U)\n",
    "pde_constraint = sn.PDE(PDE)"
   ]
  },
  {
   "cell_type": "markdown",
   "id": "11ddbd1a",
   "metadata": {},
   "source": [
    "### Training the model"
   ]
  },
  {
   "cell_type": "code",
   "execution_count": null,
   "id": "1bbfc8be",
   "metadata": {
    "scrolled": true
   },
   "outputs": [],
   "source": [
    "# Define the optimization model\n",
    "model_inv = sn.SciModel(\n",
    "    inputs=[z, t],\n",
    "    targets=[data_target, pde_constraint], # usually all of above\n",
    "    loss_func=\"mse\"\n",
    ")\n",
    "\n",
    "input_data = [z_train, t_train]\n",
    "target_data = [u_train, 'zeros'] # U = exact sol, PDE = 0\n",
    "\n",
    "# Prepare the training input and target data\n",
    "H_new = model_inv.train(\n",
    "    input_data,\n",
    "    target_data,\n",
    "    epochs=1000,\n",
    "    batch_size=500,\n",
    "    stop_loss_value=1e-36,\n",
    "    learning_rate=1e-3,\n",
    "    stop_after=None,\n",
    "    verbose=2,\n",
    "    log_parameters={'parameters': cv_inv, 'freq': 1}\n",
    ")\n",
    "\n",
    "model_inv.save_weights('Inverse1DWeights.hdf5')"
   ]
  },
  {
   "cell_type": "code",
   "execution_count": 7,
   "id": "1760fc67",
   "metadata": {},
   "outputs": [
    {
     "data": {
      "image/png": "[encoded data removed]",
      "text/plain": [
       "<Figure size 1000x600 with 1 Axes>"
      ]
     },
     "metadata": {},
     "output_type": "display_data"
    }
   ],
   "source": [
    "# Ensure 'parameter' contains the history of 'c_v' values\n",
    "cv_values = H_new.history['cv_inv']\n",
    "epochs = range(1, len(cv_values) + 1)\n",
    "\n",
    "plt.figure(figsize=(10, 6))\n",
    "plt.plot(epochs, cv_values, 'b-', label='Predicted $c_{v}$')\n",
    "plt.axhline(y=cv, color='r', linestyle='--', label='True $c_{v}$')\n",
    "plt.xlabel('Epochs')\n",
    "plt.ylabel('$c_{v}$')\n",
    "plt.title('$c_{v}$ against epochs')\n",
    "plt.legend()\n",
    "plt.grid(True)\n",
    "plt.rcParams.update({'font.size': 14})\n",
    "plt.savefig(\"InvertedCv_1D.png\", dpi=600, transparent=True)\n",
    "plt.show()"
   ]
  },
  {
   "cell_type": "code",
   "execution_count": 8,
   "id": "3c49940f",
   "metadata": {},
   "outputs": [
    {
     "name": "stdout",
     "output_type": "stream",
     "text": [
      "[0.75376219]\n"
     ]
    }
   ],
   "source": [
    "print(cv_values[-1])"
   ]
  },
  {
   "cell_type": "code",
   "execution_count": null,
   "id": "cd0c427b",
   "metadata": {},
   "outputs": [],
   "source": [
    "# ------------- L-BFGS Optimiser ----------------\n",
    "import scipy.io \n",
    "\n",
    "cv_inv1 = sn.Parameter(cv_values[-1], inputs=[z, t], name=\"cv_inv1\")\n",
    "PDE = cv_inv1 * U_zz - U_t\n",
    "\n",
    "# Define targets (losses) using sn.Data and sn.PDE interfaces\n",
    "data_target = sn.Data(U)\n",
    "pde_constraint = sn.PDE(PDE)\n",
    "\n",
    "# Define the optimization model\n",
    "model_inv1 = sn.SciModel(\n",
    "    inputs=[z, t],\n",
    "    targets=[data_target, pde_constraint], # usually all of above\n",
    "    loss_func=\"mse\",\n",
    "    optimizer='scipy-l-BFGS-B'\n",
    ")\n",
    "\n",
    "input_data = [z_train, t_train]\n",
    "target_data = [u_train, 'zeros'] # U = exact sol, PDE = 0\n",
    "\n",
    "# Prepare the training input and target data\n",
    "H_new1 = model_inv1.train(\n",
    "    input_data,\n",
    "    target_data,\n",
    "    epochs=1000,\n",
    "    batch_size=500,\n",
    "    stop_loss_value=1e-36,\n",
    "    learning_rate=1e-3,\n",
    "    stop_after=None,\n",
    "    verbose=2,\n",
    "    log_parameters={'parameters': cv_inv1, 'freq': 1}\n",
    ")\n",
    "\n",
    "model_inv.save_weights('Inverse1DWeights.hdf5')"
   ]
  },
  {
   "cell_type": "code",
   "execution_count": null,
   "id": "af3d7952",
   "metadata": {},
   "outputs": [],
   "source": [
    "# Ensure 'parameter' contains the history of 'c_v' values\n",
    "cv_values1 = H_new.history['cv_inv']\n",
    "cv_values2 = H_new1.history['cv_inv1']\n",
    "\n",
    "cv_values = np.concatenate((cv_values1, cv_values2))\n",
    "\n",
    "epochs = range(1, len(cv_values) + 1)\n",
    "\n",
    "plt.figure(figsize=(10, 6))\n",
    "plt.plot(epochs, cv_values, 'b-', label='Predicted $c_{v}$')\n",
    "plt.axhline(y=cv, color='r', linestyle='--', label='True $c_{v}$')\n",
    "plt.xlabel('Epochs')\n",
    "plt.ylabel('$c_{v}$')\n",
    "plt.title('$c_{v}$ against epochs')\n",
    "plt.legend()\n",
    "plt.grid(True)\n",
    "plt.rcParams.update({'font.size': 14})\n",
    "plt.savefig(\"InvertedCv_1D.png\", dpi=600, transparent=True)\n",
    "plt.show()"
   ]
  },
  {
   "cell_type": "code",
   "execution_count": null,
   "id": "bd1571d2",
   "metadata": {},
   "outputs": [],
   "source": []
  }
 ],
 "metadata": {
  "kernelspec": {
   "display_name": "Python 3 (ipykernel)",
   "language": "python",
   "name": "python3"
  },
  "language_info": {
   "codemirror_mode": {
    "name": "ipython",
    "version": 3
   },
   "file_extension": ".py",
   "mimetype": "text/x-python",
   "name": "python",
   "nbconvert_exporter": "python",
   "pygments_lexer": "ipython3",
   "version": "3.9.19"
  }
 },
 "nbformat": 4,
 "nbformat_minor": 5
}
