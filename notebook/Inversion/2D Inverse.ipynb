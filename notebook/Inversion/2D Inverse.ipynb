{
 "cells": [
  {
   "cell_type": "markdown",
   "id": "c417544c",
   "metadata": {},
   "source": [
    "## 2D Inverse Terzaghi Problem (PINN)\n",
    "\n",
    "Here, we attempt to invert *two* parameters from the 2D Terzaghi PDE by using the physics to predict the unknown parameters from exact solution data. The real parameter values are $c_{x} = 0.6$ and $c_{y} = 1.0$ respectively"
   ]
  },
  {
   "cell_type": "code",
   "execution_count": 1,
   "id": "f79103bc",
   "metadata": {},
   "outputs": [
    {
     "name": "stdout",
     "output_type": "stream",
     "text": [
      "---------------------- SCIANN 0.7.0.1 ---------------------- \n",
      "For details, check out our review paper and the documentation at: \n",
      " +  \"https://www.sciencedirect.com/science/article/pii/S0045782520307374\", \n",
      " +  \"https://arxiv.org/abs/2005.08803\", \n",
      " +  \"https://www.sciann.com\". \n",
      "\n",
      " Need support or would like to contribute, please join sciann`s slack group: \n",
      " +  \"https://join.slack.com/t/sciann/shared_invite/zt-ne1f5jlx-k_dY8RGo3ZreDXwz0f~CeA\" \n",
      " \n",
      "TensorFlow Version: 2.10.0 \n",
      "Python Version: 3.9.19 (main, May  6 2024, 20:12:36) [MSC v.1916 64 bit (AMD64)] \n",
      "\n"
     ]
    }
   ],
   "source": [
    "import os\n",
    "import numpy as np \n",
    "import sciann as sn \n",
    "import matplotlib.pyplot as plt\n",
    "\n",
    "from sciann.utils.math import sign, abs, sigmoid, tanh, diff"
   ]
  },
  {
   "cell_type": "code",
   "execution_count": 2,
   "id": "8f04e990",
   "metadata": {},
   "outputs": [],
   "source": [
    "t_min, t_max = 0, 1\n",
    "x_min, x_max = 0, 4\n",
    "y_min, y_max = 0, 4\n",
    "\n",
    "xs = np.linspace(x_min, x_max, 50)\n",
    "ys = np.linspace(y_min, y_max, 50)\n",
    "ts = np.linspace(t_min, t_max, 1000)"
   ]
  },
  {
   "cell_type": "markdown",
   "id": "f7cf2719",
   "metadata": {},
   "source": [
    "### Parameter Inversion"
   ]
  },
  {
   "cell_type": "code",
   "execution_count": 3,
   "id": "3117577f",
   "metadata": {},
   "outputs": [],
   "source": [
    "# Load exact solution file\n",
    "save_directory = r'C:\\Users\\Umar\\OneDrive\\UROP_PINNs\\Terzaghi\\Forward\\Data'\n",
    "\n",
    "U_mesh = np.load(os.path.join(save_directory, f'2D_data_50.npy'))\n",
    "\n",
    "# Use same format\n",
    "U_mesh = U_mesh.transpose(1, 0, 2) "
   ]
  },
  {
   "cell_type": "code",
   "execution_count": 4,
   "id": "ffdb2dd2",
   "metadata": {},
   "outputs": [],
   "source": [
    "def PrepareData(num_data=50000, random=True):\n",
    "    # Flattening the mesh grid\n",
    "    X, Y, T = np.meshgrid(xs, ys, ts)\n",
    "    X_flat = X.flatten()[:, None]\n",
    "    Y_flat = Y.flatten()[:, None]\n",
    "    T_flat = T.flatten()[:, None]\n",
    "    \n",
    "    # Calculating U_mesh\n",
    "    U_mesh_flat = U_mesh.flatten()[:, None]\n",
    "    \n",
    "    # Pick random data\n",
    "    if random:\n",
    "        idx = np.random.choice(X_flat.shape[0], num_data, replace=False)\n",
    "    else:\n",
    "        idx = np.arange(0, X_flat.shape[0])\n",
    "    \n",
    "    x_train = X_flat[idx]\n",
    "    y_train = Y_flat[idx]\n",
    "    t_train = T_flat[idx]\n",
    "    u_train = U_mesh_flat[idx]\n",
    "    \n",
    "    return (x_train, y_train, t_train, u_train)\n",
    "\n",
    "x_train, y_train, t_train, u_train = PrepareData(50000, random=True)"
   ]
  },
  {
   "cell_type": "code",
   "execution_count": 5,
   "id": "d8d397db",
   "metadata": {},
   "outputs": [],
   "source": [
    "# Define new variables and functionals\n",
    "sn.reset_session()\n",
    "sn.set_random_seed(1234)\n",
    "\n",
    "# Define independent variables\n",
    "x = sn.Variable(\"x\", dtype='float64')\n",
    "y = sn.Variable(\"y\", dtype='float64')\n",
    "t = sn.Variable(\"t\", dtype='float64')\n",
    "\n",
    "# Define solution variable\n",
    "U = sn.Functional(\"U\", [x, y, t], 8*[20], 'tanh')\n",
    "\n",
    "# Define parameters to be inverted (Double initial value)\n",
    "cx_inv = sn.Parameter(2.0, non_neg=True, inputs=[x, y, t], name=\"cx_inv\") # 0.6\n",
    "cz_inv = sn.Parameter(2.0, non_neg=True, inputs=[x, y, t], name=\"cz_inv\") # 1.0\n",
    "#cv_inv = sn.Parameter(2.0, non_neg=True, inputs=[x, y, t], name=\"cv_inv\")\n",
    "\n",
    "# Define PDE (physics constraint)\n",
    "U_t = diff(U, t)\n",
    "U_x = diff(U, x)\n",
    "U_y = diff(U, y)\n",
    "U_xx = diff(U_x, x)\n",
    "U_yy = diff(U_y, y)\n",
    "\n",
    "PDE = cx_inv*U_xx + cz_inv*U_yy - U_t\n",
    "#PDE = cv_inv*(U_xx + U_yy) - U_t\n",
    "\n",
    "# Define targets for MSE loss function\n",
    "data_target = sn.Data(U)\n",
    "pde_constraint = sn.PDE(PDE)\n",
    "\n",
    "# Collect all targets\n",
    "targets = [data_target, pde_constraint]"
   ]
  },
  {
   "cell_type": "code",
   "execution_count": 8,
   "id": "96f7ba94",
   "metadata": {
    "scrolled": true
   },
   "outputs": [
    {
     "name": "stdout",
     "output_type": "stream",
     "text": [
      "\n",
      "Total samples: 50000 \n",
      "Batch size: 500 \n",
      "Total batches: 100 \n",
      "\n",
      "Epoch 1/1000\n",
      "100/100 - 4s - loss: 0.0030 - U_loss: 0.0017 - sub_loss: 0.0014 - lr: 0.0010 - time: 4.0405 - cx_inv: 0.6971 - cz_inv: 1.0973 - 4s/epoch - 40ms/step\n",
      "Epoch 2/1000\n",
      "100/100 - 2s - loss: 6.1110e-04 - U_loss: 4.8345e-04 - sub_loss: 1.2766e-04 - lr: 0.0010 - time: 1.8915 - cx_inv: 0.6967 - cz_inv: 1.0965 - 2s/epoch - 19ms/step\n",
      "Epoch 3/1000\n",
      "100/100 - 2s - loss: 8.6521e-04 - U_loss: 6.6573e-04 - sub_loss: 1.9948e-04 - lr: 0.0010 - time: 1.8622 - cx_inv: 0.6970 - cz_inv: 1.0970 - 2s/epoch - 19ms/step\n",
      "Epoch 4/1000\n"
     ]
    },
    {
     "name": "stderr",
     "output_type": "stream",
     "text": [
      "\n",
      "KeyboardInterrupt\n",
      "\n"
     ]
    }
   ],
   "source": [
    "epochs = 1000\n",
    "batch_size = 500\n",
    "\n",
    "model_inv = sn.SciModel(\n",
    "    inputs=[x, y, t],\n",
    "    targets=targets,\n",
    "    loss_func=\"mse\"\n",
    ")\n",
    "\n",
    "input_data = [x_train, y_train, t_train]\n",
    "target_data = [u_train, 'zeros']\n",
    "\n",
    "# Prepare the training input and target data\n",
    "H_new = model_inv.train(\n",
    "    input_data,\n",
    "    target_data,\n",
    "    epochs=epochs,\n",
    "    batch_size=batch_size,\n",
    "    stop_loss_value=1e-36,\n",
    "    stop_after=None,\n",
    "    verbose=2,\n",
    "    log_parameters={'parameters': [cx_inv, cz_inv], 'freq': 1}\n",
    ")\n",
    "model_inv.save_weights('Inverse2DWeights.hdf5')"
   ]
  },
  {
   "cell_type": "code",
   "execution_count": 7,
   "id": "8011d90d",
   "metadata": {},
   "outputs": [
    {
     "data": {
      "image/png": "[encoded data removed]",
      "text/plain": [
       "<Figure size 1000x600 with 1 Axes>"
      ]
     },
     "metadata": {},
     "output_type": "display_data"
    }
   ],
   "source": [
    "# Ensure 'parameter' contains the history of 'c_v' values\n",
    "single = False\n",
    "\n",
    "if single:\n",
    "    cv_values = H_new.history['cv_inv']\n",
    "    epochs = range(1, len(cv_values) + 1)\n",
    "    plt.figure(figsize=(10, 6))\n",
    "    plt.plot(epochs, cv_values, 'r-', label='Predicted $c_{v}$')\n",
    "    plt.axhline(y=1.0, color='b', linestyle='--', label='True $c_{z}$')\n",
    "    plt.xlabel('Epochs')\n",
    "    plt.ylabel('$c_{X}$')\n",
    "    plt.title('$c_{v}$ against epochs')\n",
    "    plt.legend()\n",
    "    plt.grid(True)\n",
    "    plt.savefig(\"InvertedCxCz_2D.png\",dpi=600)\n",
    "    plt.show()\n",
    "    \n",
    "else:\n",
    "    cx_values = H_new.history['cx_inv']\n",
    "    cz_values = H_new.history['cz_inv']\n",
    "    epochs = range(1, len(cx_values) + 1)\n",
    "\n",
    "    plt.figure(figsize=(10, 6))\n",
    "    plt.plot(epochs, cx_values, 'r-', label='Predicted $c_{x}$')\n",
    "    plt.plot(epochs, cz_values, 'b-', label='Predicted $c_{z}$')\n",
    "    plt.axhline(y=1.0, color='r', linestyle='--', label='True $c_{x}$')\n",
    "    plt.axhline(y=0.6, color='b', linestyle='--', label='True $c_{z}$')\n",
    "    plt.xlabel('Epochs')\n",
    "    plt.ylabel('$c_{x/y}$')\n",
    "    plt.title('$c_{x/y}$ against epochs')\n",
    "    plt.legend()\n",
    "    plt.grid(True)\n",
    "    plt.savefig(\"InvertedCxCz_2D.png\",dpi=600)\n",
    "    plt.show()"
   ]
  }
 ],
 "metadata": {
  "kernelspec": {
   "display_name": "Python 3 (ipykernel)",
   "language": "python",
   "name": "python3"
  },
  "language_info": {
   "codemirror_mode": {
    "name": "ipython",
    "version": 3
   },
   "file_extension": ".py",
   "mimetype": "text/x-python",
   "name": "python",
   "nbconvert_exporter": "python",
   "pygments_lexer": "ipython3",
   "version": "3.9.19"
  }
 },
 "nbformat": 4,
 "nbformat_minor": 5
}
