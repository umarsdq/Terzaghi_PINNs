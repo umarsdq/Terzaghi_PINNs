{
 "cells": [
  {
   "cell_type": "markdown",
   "id": "35165e85",
   "metadata": {},
   "source": [
    "## 3D Terzaghi Consolidation Problem (PINN)\n",
    "\n",
    "Here, we attempt to invert all *three* parameters from the 3D Terzaghi PDE by using the physics to predict the unknown parameters from exact solution data. The real parameter values are 0.05, 0.10, 0.15 respectively. The code is incomplete as an exact solution of 60x60x60 grid requires > 100GB data. The result for a single parameter is available in the results folder."
   ]
  },
  {
   "cell_type": "code",
   "execution_count": null,
   "id": "2ef3a1a9",
   "metadata": {},
   "outputs": [],
   "source": [
    "import numpy as np \n",
    "import sciann as sn \n",
    "import pandas as pd\n",
    "import matplotlib.pyplot as plt\n",
    "\n",
    "from sciann.utils.math import sign, abs, sigmoid, tanh, diff"
   ]
  },
  {
   "cell_type": "code",
   "execution_count": null,
   "id": "e36d0abf",
   "metadata": {},
   "outputs": [],
   "source": [
    "x_min, x_max = 0, 1\n",
    "y_min, y_max = 0, 1\n",
    "z_min, z_max = 0, 1\n",
    "t_min, t_max = 0, 1\n",
    "\n",
    "N = 30\n",
    "\n",
    "xs = np.linspace(x_min, x_max, N)\n",
    "ys = np.linspace(y_min, y_max, N)\n",
    "zs = np.linspace(z_min, z_max, N)\n",
    "ts = np.linspace(t_min, t_max, 21600)"
   ]
  },
  {
   "cell_type": "code",
   "execution_count": null,
   "id": "b90e7162",
   "metadata": {},
   "outputs": [],
   "source": [
    "def PrepareData(num_data=50000, random=True):\n",
    "    # Flattening the mesh grid\n",
    "    X, Y, Z, T = np.meshgrid(xs, ys, zs, ts)\n",
    "    X_flat = X.flatten()[:, None]\n",
    "    Y_flat = Y.flatten()[:, None]\n",
    "    Z_flat = Z.flatten()[:, None]\n",
    "    T_flat = T.flatten()[:, None]\n",
    "    \n",
    "    # Calculating U_mesh\n",
    "    U_mesh_flat = U_mesh.flatten()[:, None]\n",
    "    \n",
    "    # Pick random data\n",
    "    if random:\n",
    "        idx = np.random.choice(Z_flat.shape[0], num_data, replace=False)\n",
    "    else:\n",
    "        idx = np.arange(0, Z_flat.shape[0])\n",
    "    \n",
    "    x_train = X_flat[idx]\n",
    "    y_train = Y_flat[idx]\n",
    "    z_train = Z_flat[idx]\n",
    "    t_train = T_flat[idx]\n",
    "    u_train = U_mesh_flat[idx]\n",
    "    \n",
    "    return (x_train, y_train, z_train, t_train, u_train)\n",
    "\n",
    "x_train, y_train, z_train, t_train, u_train = PrepareData(50000, random=True)"
   ]
  },
  {
   "cell_type": "code",
   "execution_count": null,
   "id": "dd1f9658",
   "metadata": {},
   "outputs": [],
   "source": [
    "# Define independent variables\n",
    "x = sn.Variable(\"x\", dtype='float64')\n",
    "y = sn.Variable(\"y\", dtype='float64')\n",
    "z = sn.Variable(\"z\", dtype='float64')\n",
    "t = sn.Variable(\"t\", dtype='float64')\n",
    "\n",
    "# Define solution variable with z\n",
    "U = sn.Functional(\"U\", [x, y, z, t], 4*[40], 'tanh')\n",
    "\n",
    "# Define PDE (physics constraint)\n",
    "U_t = diff(U, t)\n",
    "U_x = diff(U, x)\n",
    "U_y = diff(U, y)\n",
    "U_z = diff(U, z)\n",
    "U_xx = diff(U_x, x)\n",
    "U_yy = diff(U_y, y)\n",
    "U_zz = diff(U_z, z)\n",
    "\n",
    "single = False\n",
    "\n",
    "# Define parameters to be inverted\n",
    "if single:\n",
    "    cv_inv = sn.Parameter(2.0, non_neg=True, inputs=[x, y, z, t], name=\"cv_inv\")\n",
    "    \n",
    "    PDE = cv_inv*(U_xx + U_yy + U_zz) - U_t\n",
    "    \n",
    "else:\n",
    "    cx_inv = sn.Parameter(0.5, min_max = [0.01, cx*1.25], non_neg=True, inputs=[x, y, z, t], name=\"cx_inv\")\n",
    "    cy_inv = sn.Parameter(0.5, min_max = [0.01, cy*1.25], non_neg=True, inputs=[x, y, z, t], name=\"cy_inv\")\n",
    "    cz_inv = sn.Parameter(0.5, min_max = [0.01, cz*1.25], non_neg=True, inputs=[x, y, z, t], name=\"cz_inv\")\n",
    "    \n",
    "    PDE = cx_inv*U_xx + cy_inv*U_yy + cz_inv*U_zz - U_t\n",
    "\n",
    "\n",
    "# Define targets (losses) using sn.Data and sn.PDE interfaces\n",
    "data_target = sn.Data(U)\n",
    "pde_constraint = sn.PDE(PDE)\n",
    "\n",
    "# Collect all targets\n",
    "targets = [data_target, pde_constraint]\n",
    "\n",
    "input_data = [x_train, y_train, z_train, t_train]\n",
    "target_data = [u_train, 'zeros']"
   ]
  },
  {
   "cell_type": "code",
   "execution_count": null,
   "id": "90eb56d3",
   "metadata": {
    "scrolled": true
   },
   "outputs": [],
   "source": [
    "epochs = 25000\n",
    "batch_size = 5000\n",
    "\n",
    "model_inv = sn.SciModel(\n",
    "    inputs=[x, y, z, t],\n",
    "    targets=targets,\n",
    "    loss_func=\"mse\"\n",
    ")\n",
    "\n",
    "if single:\n",
    "    params = {'parameters': cv_inv, 'freq': 1}\n",
    "\n",
    "else:\n",
    "    params = {'parameters': [cx_inv, cy_inv, cz_inv], 'freq': 1}\n",
    "\n",
    "# Prepare the training input and target data\n",
    "H_new = model_inv.train(\n",
    "    input_data,\n",
    "    target_data,\n",
    "    epochs=epochs,\n",
    "    batch_size=batch_size,\n",
    "    stop_loss_value=1e-36,\n",
    "    learning_rate=([0, 1000], [1e-2, 1e-3]),\n",
    "    stop_after=None,\n",
    "    verbose=2,\n",
    "    log_parameters=params\n",
    ")"
   ]
  }
 ],
 "metadata": {
  "kernelspec": {
   "display_name": "Python 3 (ipykernel)",
   "language": "python",
   "name": "python3"
  },
  "language_info": {
   "codemirror_mode": {
    "name": "ipython",
    "version": 3
   },
   "file_extension": ".py",
   "mimetype": "text/x-python",
   "name": "python",
   "nbconvert_exporter": "python",
   "pygments_lexer": "ipython3",
   "version": "3.9.19"
  }
 },
 "nbformat": 4,
 "nbformat_minor": 5
}
